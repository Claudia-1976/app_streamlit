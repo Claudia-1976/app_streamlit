{
 "cells": [
  {
   "cell_type": "markdown",
   "id": "c1eacece",
   "metadata": {},
   "source": [
    "## EPH - Individuos"
   ]
  },
  {
   "cell_type": "markdown",
   "id": "2812672c",
   "metadata": {},
   "source": [
    "### Importaciones"
   ]
  },
  {
   "cell_type": "code",
   "execution_count": 16,
   "id": "f250ce22",
   "metadata": {},
   "outputs": [],
   "source": [
    "import sys\n",
    "sys.path.append('..')\n",
    "\n",
    "from src.utils.generador_archivos import generate_data_out\n",
    "\n",
    "# Sección A\n",
    "from src.responses.individuales import traducir_genero\n",
    "from src.responses.individuales import traducir_nivel_ed\n",
    "from src.responses.individuales import crear_columna_condicion_laboral\n",
    "from src.responses.individuales import crear_columna_universitario\n",
    "\n",
    "# Sección B\n",
    "from src.responses.individuales import analfabetismo\n",
    "from src.responses.individuales import estudios_de_extranjeros_str\n",
    "from src.responses.individuales import menor_desocupacion\n",
    "from src.responses.individuales import porcentaje_educacion_superior\n",
    "from src.responses.individuales import aglomerado_nivel_estudios\n",
    "from src.responses.individuales import porcentajes_secundario_incompleto\n",
    "from src.responses.individuales import universitario_hogar_insu\n",
    "\n",
    "#print(f'Path a la carpeta de trimestres añadidos: {PATH_FOLDER}')\n",
    "#print(f'Carpeta donde se va a guardar el dataset de individuos: {DATASET_INDIVIDUALES}')"
   ]
  },
  {
   "cell_type": "markdown",
   "id": "e2d665af",
   "metadata": {},
   "source": [
    "### Generador de Dataset"
   ]
  },
  {
   "cell_type": "code",
   "execution_count": 17,
   "id": "ed8ed288",
   "metadata": {},
   "outputs": [
    {
     "name": "stdout",
     "output_type": "stream",
     "text": [
      "dataset_individuales.csv generado en c:\\Users\\Foresio\\Desktop\\Integrador\\notebooks\\..\\files\\data_out\n"
     ]
    }
   ],
   "source": [
    "palabra_clave = \"individual\" \n",
    "\n",
    "generate_data_out(palabra_clave)"
   ]
  },
  {
   "cell_type": "markdown",
   "id": "8ba8d0a0",
   "metadata": {},
   "source": [
    "### **Informacion individuos (Sección A):**"
   ]
  },
  {
   "cell_type": "markdown",
   "id": "49346b80",
   "metadata": {},
   "source": [
    "**Ejercicio 3)** Se debe traducir los valores **CH04** numéricos a **\"Masculino\"** y **\"Femenino\"** según corresponda. El resultado se debe almacenar en una nueva columna llamada **CH04_str**"
   ]
  },
  {
   "cell_type": "code",
   "execution_count": 18,
   "id": "a87fe2fe",
   "metadata": {},
   "outputs": [
    {
     "name": "stdout",
     "output_type": "stream",
     "text": [
      "Se agregó la columna 'CH04_str' al archivo c:\\Users\\Foresio\\Desktop\\Integrador\\notebooks\\..\\files\\data_out\\dataset_individuales.csv\n"
     ]
    }
   ],
   "source": [
    "traducir_genero()"
   ]
  },
  {
   "cell_type": "markdown",
   "id": "ed56647e",
   "metadata": {},
   "source": [
    "**Ejercicio 4)** Se debe traducir los valores **NIVEL_ED** numéricos a descripciones en formato texto. El resultado se debe almacenar en una nueva columna llamada **NIVEL_ED_str**.\n",
    "\n",
    "*La transformación debe seguir las siguientes reglas:*\n",
    "- **1**: \"Primario incompleto\" / **2**: \"Primario completo\" / **3**: \"Secundario incompleto\" / **4**: \"Secundario completo\" / **5 a 6**: \"Superior o universitario\" / **7 o 9**: “Sin informacion”"
   ]
  },
  {
   "cell_type": "code",
   "execution_count": 19,
   "id": "f20a6041",
   "metadata": {},
   "outputs": [
    {
     "name": "stdout",
     "output_type": "stream",
     "text": [
      "Se agregó la columna 'NIVEL_ED_str' al archivo c:\\Users\\Foresio\\Desktop\\Integrador\\notebooks\\..\\files\\data_out\\dataset_individuales.csv\n"
     ]
    }
   ],
   "source": [
    "traducir_nivel_ed()"
   ]
  },
  {
   "cell_type": "markdown",
   "id": "4d589057",
   "metadata": {},
   "source": [
    "**Ejercicio 5)** Se debe crear una nueva columna denominada **CONDICION_LABORAL** en formato texto con las siguientes reglas:\n",
    "\n",
    "*La columna debe seguir las siguientes reglas:*\n",
    "-  **Ocupado autónomo:** ESTADO = 1 Y CAT_OCUP es 1 o 2\n",
    "-  **Ocupado dependiente:** ESTADO = 1 Y CAT_OCUP es 3 o 4 o 9\n",
    "-  **Desocupado :** ESTADO = 2\n",
    "-  **Inactivo:** ESTADO = 3\n",
    "-  **Fuera de categoría/sin información** : ESTADO = 4"
   ]
  },
  {
   "cell_type": "code",
   "execution_count": 20,
   "id": "dd776808",
   "metadata": {},
   "outputs": [
    {
     "name": "stdout",
     "output_type": "stream",
     "text": [
      "Se agregó la columna 'CONDICION_LABORAL' al archivo c:\\Users\\Foresio\\Desktop\\Integrador\\notebooks\\..\\files\\data_out\\dataset_individuales.csv\n"
     ]
    }
   ],
   "source": [
    "crear_columna_condicion_laboral()"
   ]
  },
  {
   "cell_type": "markdown",
   "id": "5ecbadf2",
   "metadata": {},
   "source": [
    "**Ejercicio 6)** Se debe generar una nueva columna denominada **UNIVERSITARIO** de tipo numérica:\n",
    "\n",
    "*La columna debe seguir las siguientes reglas:*\n",
    "-  **1:** Sí / **0:** No / **2:** no aplica\n"
   ]
  },
  {
   "cell_type": "code",
   "execution_count": 21,
   "id": "500a59bd",
   "metadata": {},
   "outputs": [
    {
     "name": "stdout",
     "output_type": "stream",
     "text": [
      "Se agregó la columna 'UNIVERSITARIO' al archivo c:\\Users\\Foresio\\Desktop\\Integrador\\notebooks\\..\\files\\data_out\\dataset_individuales.csv\n"
     ]
    }
   ],
   "source": [
    "crear_columna_universitario()"
   ]
  },
  {
   "cell_type": "markdown",
   "id": "fb1bac16",
   "metadata": {},
   "source": [
    "### **Información a obtener: consultas al dataset principal (Sección B):**"
   ]
  },
  {
   "cell_type": "markdown",
   "id": "4864a168",
   "metadata": {},
   "source": [
    "**Ejercicio 1)** A partir de la información de cada año contenida en el dataset se debe informar, año tras año, el porcentaje de personas mayores a 6 años capaces e incapaces de leer y escribir.\n",
    "\n",
    "***Importante: tomar la información del último trimestre de cada año.***"
   ]
  },
  {
   "cell_type": "code",
   "execution_count": 22,
   "id": "ff576d41",
   "metadata": {},
   "outputs": [
    {
     "name": "stdout",
     "output_type": "stream",
     "text": [
      "Año 2022 (Trimestre 4):\n",
      "  Porcentaje de alfabetas: 99.179%\n",
      "  Porcentaje de analfabetas: 0.816%\n",
      "Año 2023 (Trimestre 3):\n",
      "  Porcentaje de alfabetas: 98.965%\n",
      "  Porcentaje de analfabetas: 0.948%\n",
      "Año 2024 (Trimestre 2):\n",
      "  Porcentaje de alfabetas: 99.049%\n",
      "  Porcentaje de analfabetas: 0.912%\n"
     ]
    }
   ],
   "source": [
    "analfabetismo()"
   ]
  },
  {
   "cell_type": "markdown",
   "id": "1de7bce5",
   "metadata": {},
   "source": [
    "**Ejercicio 2)** A partir de un año y trimestre elegido por el usuario informar el porcentaje de personas no nacidas en Argentina que hayan cursado un nivel universitario o superior"
   ]
  },
  {
   "cell_type": "code",
   "execution_count": 23,
   "id": "446a58e6",
   "metadata": {},
   "outputs": [
    {
     "name": "stdout",
     "output_type": "stream",
     "text": [
      "Favor de introducir los siguientes datos de busqueda:\n",
      "No hay datos registrados para ese trimestre ó año\n"
     ]
    }
   ],
   "source": [
    "estudios_de_extranjeros_str()"
   ]
  },
  {
   "cell_type": "markdown",
   "id": "44e63f05",
   "metadata": {},
   "source": [
    "**Ejercicio 3)** A partir de la información contenida en el dataset informar el año y trimestre donde hubo menor desocupación"
   ]
  },
  {
   "cell_type": "code",
   "execution_count": 24,
   "id": "2af84e65",
   "metadata": {},
   "outputs": [
    {
     "name": "stdout",
     "output_type": "stream",
     "text": [
      "El año 2023 y trimestre 3 tuvieron la menor desocupación de: 813661 personas\n"
     ]
    }
   ],
   "source": [
    "menor_desocupacion()"
   ]
  },
  {
   "cell_type": "markdown",
   "id": "8a52e781",
   "metadata": {},
   "source": [
    "**Ejercicio 7)** Informar para cada aglomerado el porcentaje de personas que hayan cursado al menos en nivel universitario o superior"
   ]
  },
  {
   "cell_type": "code",
   "execution_count": 25,
   "id": "3fde6923",
   "metadata": {},
   "outputs": [
    {
     "name": "stdout",
     "output_type": "stream",
     "text": [
      "Aglomerado: 13 - Porcentaje de personas con educación superior: 1.67%\n",
      "Aglomerado: 9 - Porcentaje de personas con educación superior: 0.19%\n",
      "Aglomerado: 33 - Porcentaje de personas con educación superior: 9.11%\n",
      "Aglomerado: 17 - Porcentaje de personas con educación superior: 0.26%\n",
      "Aglomerado: 23 - Porcentaje de personas con educación superior: 0.60%\n",
      "Aglomerado: 27 - Porcentaje de personas con educación superior: 0.41%\n",
      "Aglomerado: 15 - Porcentaje de personas con educación superior: 0.18%\n",
      "Aglomerado: 38 - Porcentaje de personas con educación superior: 0.14%\n",
      "Aglomerado: 93 - Porcentaje de personas con educación superior: 0.07%\n",
      "Aglomerado: 91 - Porcentaje de personas con educación superior: 0.10%\n",
      "Aglomerado: 34 - Porcentaje de personas con educación superior: 0.63%\n",
      "Aglomerado: 18 - Porcentaje de personas con educación superior: 0.33%\n",
      "Aglomerado: 32 - Porcentaje de personas con educación superior: 4.73%\n",
      "Aglomerado: 26 - Porcentaje de personas con educación superior: 0.19%\n",
      "Aglomerado: 20 - Porcentaje de personas con educación superior: 0.10%\n",
      "Aglomerado: 4 - Porcentaje de personas con educación superior: 1.34%\n",
      "Aglomerado: 14 - Porcentaje de personas con educación superior: 0.09%\n",
      "Aglomerado: 6 - Porcentaje de personas con educación superior: 0.30%\n",
      "Aglomerado: 8 - Porcentaje de personas con educación superior: 0.30%\n",
      "Aglomerado: 2 - Porcentaje de personas con educación superior: 1.04%\n",
      "Aglomerado: 30 - Porcentaje de personas con educación superior: 0.11%\n",
      "Aglomerado: 25 - Porcentaje de personas con educación superior: 0.20%\n",
      "Aglomerado: 10 - Porcentaje de personas con educación superior: 0.98%\n",
      "Aglomerado: 19 - Porcentaje de personas con educación superior: 0.33%\n",
      "Aglomerado: 36 - Porcentaje de personas con educación superior: 0.17%\n",
      "Aglomerado: 5 - Porcentaje de personas con educación superior: 0.47%\n",
      "Aglomerado: 31 - Porcentaje de personas con educación superior: 0.14%\n",
      "Aglomerado: 22 - Porcentaje de personas con educación superior: 0.20%\n",
      "Aglomerado: 12 - Porcentaje de personas con educación superior: 0.40%\n",
      "Aglomerado: 29 - Porcentaje de personas con educación superior: 0.78%\n",
      "Aglomerado: 7 - Porcentaje de personas con educación superior: 0.36%\n",
      "Aglomerado: 3 - Porcentaje de personas con educación superior: 0.33%\n"
     ]
    }
   ],
   "source": [
    "porcentaje_educacion_superior()"
   ]
  },
  {
   "cell_type": "markdown",
   "id": "e61f7154",
   "metadata": {},
   "source": [
    "**Ejercicio 9)** Pedir al usuario que seleccione un aglomerado y a partir de la información contenida retornar una tabla que contenga la cantidad de personas mayores de edad según su nivel de estudios alcanzados."
   ]
  },
  {
   "cell_type": "code",
   "execution_count": 26,
   "id": "b7f571f3",
   "metadata": {},
   "outputs": [
    {
     "name": "stdout",
     "output_type": "stream",
     "text": [
      "Aglomerados disponibles:\n",
      "02: Gran La Plata\n",
      "03: Bahía Blanca-Cerri\n",
      "04: Gran Rosario\n",
      "05: Gran Santa Fe\n",
      "06: Gran Paraná\n",
      "07: Posadas\n",
      "08: Gran Resistencia\n",
      "09: Comodoro Rivadavia-Rada Tilly\n",
      "10: Gran Mendoza\n",
      "12: Corrientes\n",
      "13: Gran Córdoba\n",
      "14: Concordia\n",
      "15: Formosa\n",
      "17: Neuquén-Plottier\n",
      "18: Santiago del Estero-La Banda\n",
      "19: Jujuy-Palpalá\n",
      "20: Río Gallegos\n",
      "22: Gran Catamarca\n",
      "23: Gran Salta\n",
      "25: La Rioja\n",
      "26: Gran San Luis\n",
      "27: Gran San Juan\n",
      "29: Gran Tucumán-Tafí Viejo\n",
      "30: Santa Rosa-Toay\n",
      "31: Ushuaia-Río Grande\n",
      "32: Ciudad Autónoma de Buenos Aires\n",
      "33: Partidos del Gran Buenos Aires\n",
      "34: Mar del Plata\n",
      "36: Río Cuarto\n",
      "38: San Nicolás-Villa Constitución\n",
      "91: Rawson-Trelew\n",
      "93: Viedma-Carmen de Patagones\n",
      "Resultados para el aglomerado 22: Gran Catamarca\n",
      "Cantidad de personas mayores de edad según su nivel de estudios alcanzados:\n",
      "\n",
      "Año: 2022 - Trimestre: 4\n",
      "Superior o universitario      : 292742\n",
      "Secundario completo           : 274667\n",
      "Secundario incompleto         : 120918\n",
      "Primario completo             : 108471\n",
      "Primario incompleto           : 34890\n",
      "\n",
      "Año: 2023 - Trimestre: 1\n",
      "Superior o universitario      : 292742\n",
      "Secundario completo           : 274667\n",
      "Secundario incompleto         : 120918\n",
      "Primario completo             : 108471\n",
      "Primario incompleto           : 34890\n",
      "\n",
      "Año: 2023 - Trimestre: 2\n",
      "Superior o universitario      : 292742\n",
      "Secundario completo           : 274667\n",
      "Secundario incompleto         : 120918\n",
      "Primario completo             : 108471\n",
      "Primario incompleto           : 34890\n",
      "\n",
      "Año: 2023 - Trimestre: 3\n",
      "Superior o universitario      : 292742\n",
      "Secundario completo           : 274667\n",
      "Secundario incompleto         : 120918\n",
      "Primario completo             : 108471\n",
      "Primario incompleto           : 34890\n",
      "\n",
      "Año: 2024 - Trimestre: 2\n",
      "Superior o universitario      : 292742\n",
      "Secundario completo           : 274667\n",
      "Secundario incompleto         : 120918\n",
      "Primario completo             : 108471\n",
      "Primario incompleto           : 34890\n"
     ]
    }
   ],
   "source": [
    "aglomerado_nivel_estudios()"
   ]
  },
  {
   "cell_type": "markdown",
   "id": "228cf6c3",
   "metadata": {},
   "source": [
    "**Ejercicio 10)**  Pedir al usuario que seleccione dos aglomerados y a partir de la información\n",
    "contenida retornar una tabla que contenga el porcentaje de personas mayores de\n",
    "edad con secundario incompleto"
   ]
  },
  {
   "cell_type": "code",
   "execution_count": 27,
   "id": "787b5af9",
   "metadata": {},
   "outputs": [
    {
     "name": "stdout",
     "output_type": "stream",
     "text": [
      "Aglomerados disponibles:\n",
      "02: Gran La Plata\n",
      "03: Bahía Blanca-Cerri\n",
      "04: Gran Rosario\n",
      "05: Gran Santa Fe\n",
      "06: Gran Paraná\n",
      "07: Posadas\n",
      "08: Gran Resistencia\n",
      "09: Comodoro Rivadavia-Rada Tilly\n",
      "10: Gran Mendoza\n",
      "12: Corrientes\n",
      "13: Gran Córdoba\n",
      "14: Concordia\n",
      "15: Formosa\n",
      "17: Neuquén-Plottier\n",
      "18: Santiago del Estero-La Banda\n",
      "19: Jujuy-Palpalá\n",
      "20: Río Gallegos\n",
      "22: Gran Catamarca\n",
      "23: Gran Salta\n",
      "25: La Rioja\n",
      "26: Gran San Luis\n",
      "27: Gran San Juan\n",
      "29: Gran Tucumán-Tafí Viejo\n",
      "30: Santa Rosa-Toay\n",
      "31: Ushuaia-Río Grande\n",
      "32: Ciudad Autónoma de Buenos Aires\n",
      "33: Partidos del Gran Buenos Aires\n",
      "34: Mar del Plata\n",
      "36: Río Cuarto\n",
      "38: San Nicolás-Villa Constitución\n",
      "91: Rawson-Trelew\n",
      "93: Viedma-Carmen de Patagones\n",
      "\n",
      "Año   | Trimestre  | Aglomerado 22 | Aglomerado 22\n",
      "------------------------------------------------------------\n",
      "2022  | 4          | 12.87 %       | 12.87 %      \n",
      "2023  | 1          | 12.46 %       | 12.46 %      \n",
      "2023  | 2          | 15.85 %       | 15.85 %      \n",
      "2023  | 3          | 16.66 %       | 16.66 %      \n",
      "2024  | 2          | 14.48 %       | 14.48 %      \n"
     ]
    }
   ],
   "source": [
    "porcentajes_secundario_incompleto()"
   ]
  },
  {
   "cell_type": "markdown",
   "id": "f3f06b3e",
   "metadata": {},
   "source": [
    "**Ejercicio 13)** Se solicita un año al usuario y del ultimo trimestre de dicho año se retorna la cantidad de personas con nivel universitario o superior, con **CONDICION_DE_HABITABILIDAD** *'insuficiente'*"
   ]
  },
  {
   "cell_type": "code",
   "execution_count": 28,
   "id": "7d4b9b42",
   "metadata": {},
   "outputs": [
    {
     "name": "stdout",
     "output_type": "stream",
     "text": [
      "Total de personas con educación universitaria en viviendas con habitabilidad insuficiente en 2024 trimestre 2: 17\n"
     ]
    }
   ],
   "source": [
    "universitario_hogar_insu()"
   ]
  }
 ],
 "metadata": {
  "kernelspec": {
   "display_name": "Python 3",
   "language": "python",
   "name": "python3"
  },
  "language_info": {
   "codemirror_mode": {
    "name": "ipython",
    "version": 3
   },
   "file_extension": ".py",
   "mimetype": "text/x-python",
   "name": "python",
   "nbconvert_exporter": "python",
   "pygments_lexer": "ipython3",
   "version": "3.12.9"
  }
 },
 "nbformat": 4,
 "nbformat_minor": 5
}
