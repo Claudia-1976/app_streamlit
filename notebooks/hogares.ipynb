{
 "cells": [
  {
   "cell_type": "markdown",
   "id": "4aae43fa",
   "metadata": {},
   "source": [
    "## EPH - Hogares"
   ]
  },
  {
   "cell_type": "markdown",
   "id": "f071c87d",
   "metadata": {},
   "source": [
    "### Importaciones"
   ]
  },
  {
   "cell_type": "code",
   "execution_count": 1,
   "id": "65b94d8c",
   "metadata": {},
   "outputs": [],
   "source": [
    "import sys\n",
    "sys.path.append('..')\n",
    "\n",
    "from src.utils.generador_archivos import generate_data_out\n",
    "\n",
    "# Sección  A\n",
    "from src.responses.hogares import agregar_tipo_hogar \n",
    "from src.responses.hogares import agregar_material_techumbre\n",
    "from src.responses.hogares import crear_columna_densidad\n",
    "from src.responses.hogares import condicion_habitabilidad\n",
    "\n",
    "# Sección  B\n",
    "from src.responses.hogares import ranking_aglomerados_universitarios\n",
    "from src.responses.hogares import porcentaje_viviendas_ocupadas_por_propietario\n",
    "from src.responses.hogares import aglomerado_mas_cantidad_hogares_2habitantes_sinbanio\n",
    "from src.responses.hogares import regiones_inquilinos\n",
    "from src.responses.hogares import porcentaje_viviendas_precarias_por_aglomerado\n",
    "from src.responses.hogares import hogar_jub_insuficiente\n",
    "\n",
    "#print(f'Path a la carpeta de trimestres añadidos: {PATH_FOLDER}')\n",
    "#print(f'Carpeta donde se va a guardar el dataset de individuos: {DATASET_HOGARES}')"
   ]
  },
  {
   "cell_type": "markdown",
   "id": "a8a9a637",
   "metadata": {},
   "source": [
    "### Generador de Dataset"
   ]
  },
  {
   "cell_type": "code",
   "execution_count": 2,
   "id": "99e94277",
   "metadata": {},
   "outputs": [
    {
     "name": "stdout",
     "output_type": "stream",
     "text": [
      "dataset_hogares.csv generado en c:\\Users\\Foresio\\Desktop\\Integrador\\notebooks\\..\\files\\data_out\n"
     ]
    }
   ],
   "source": [
    "palabra_clave = \"hogar\"\n",
    "\n",
    "generate_data_out(palabra_clave)"
   ]
  },
  {
   "cell_type": "markdown",
   "id": "2380ce49",
   "metadata": {},
   "source": [
    "### Informacion hogar (Sección A):"
   ]
  },
  {
   "cell_type": "markdown",
   "id": "14992cfa",
   "metadata": {},
   "source": [
    "**Ejercicio 7)** Se debe generar una nueva columna llamada **TIPO_HOGAR** que indica el tipo de hogar:\n",
    "- **\"Unipersonal\"** (1 persona) / **\"Nuclear\"** (2 a 4 personas) / **\"Extendido\"** (5 o más personas)."
   ]
  },
  {
   "cell_type": "code",
   "execution_count": 3,
   "id": "8b950e5a",
   "metadata": {},
   "outputs": [
    {
     "name": "stdout",
     "output_type": "stream",
     "text": [
      "Se agregó la columna 'TIPO_HOGAR' al archivo c:\\Users\\Foresio\\Desktop\\Integrador\\notebooks\\..\\files\\data_out\\dataset_hogares.csv\n"
     ]
    }
   ],
   "source": [
    "agregar_tipo_hogar()"
   ]
  },
  {
   "cell_type": "markdown",
   "id": "6a5f5a2c",
   "metadata": {},
   "source": [
    "**Ejercicio 8)** Se debe generar una nueva columna llamada **MATERIAL_TECHUMBE** que indica el tipo de material del hogar según el tipo de cubierta del techo de cada hogar:\n",
    "- **\"Material durable\"** (de 1 a 4) / **\"Material precario\"** (de 5 a 7) / **\"No aplica\"** (9)."
   ]
  },
  {
   "cell_type": "code",
   "execution_count": 4,
   "id": "9a54ed4c",
   "metadata": {},
   "outputs": [
    {
     "name": "stdout",
     "output_type": "stream",
     "text": [
      "Se agregó la columna 'MATERIAL_TECHUMBRE' al archivo c:\\Users\\Foresio\\Desktop\\Integrador\\notebooks\\..\\files\\data_out\\dataset_hogares.csv\n"
     ]
    }
   ],
   "source": [
    "agregar_material_techumbre()"
   ]
  },
  {
   "cell_type": "markdown",
   "id": "4393672d",
   "metadata": {},
   "source": [
    "**Ejercicio 9** se debe generar una nueva columna denominada **DENSIDAD_HOGAR**\n",
    "*La generacion debe seguir las siguientes reglas:*\n",
    "-   **Bajo**: menos de 1 persona por habitación.\n",
    "-   **Medio**: entre 1 y 2 personas por habitación.\n",
    "-   **Alto**: más de 2 personas por habitación."
   ]
  },
  {
   "cell_type": "code",
   "execution_count": 5,
   "id": "c497070d",
   "metadata": {},
   "outputs": [
    {
     "name": "stdout",
     "output_type": "stream",
     "text": [
      "Se agregó la columna 'DENSIDAD_HOGAR' al archivo c:\\Users\\Foresio\\Desktop\\Integrador\\notebooks\\..\\files\\data_out\\dataset_hogares.csv\n"
     ]
    }
   ],
   "source": [
    "crear_columna_densidad()"
   ]
  },
  {
   "cell_type": "markdown",
   "id": "20ba96e7",
   "metadata": {},
   "source": [
    "**Ejercitacion 10)** Se debe generar una nueva columna llamada **CONDICION_DE_HABITABILIDAD**, la\n",
    "misma califica a las viviendas y puede tener el valor de: **insuficiente, regular, saludables y buena.**\n",
    "\n",
    "Sus condiciones son:\n",
    "-   ***Tiene agua / Origen del agua / Posee baño / Material del techo / Material del piso***"
   ]
  },
  {
   "cell_type": "code",
   "execution_count": 6,
   "id": "db4a9b04",
   "metadata": {},
   "outputs": [
    {
     "name": "stdout",
     "output_type": "stream",
     "text": [
      "Se agregó la columna 'CONDICION_DE_HABITABILIDAD' al archivo c:\\Users\\Foresio\\Desktop\\Integrador\\notebooks\\..\\files\\data_out\\dataset_hogares.csv\n"
     ]
    }
   ],
   "source": [
    "condicion_habitabilidad()"
   ]
  },
  {
   "cell_type": "markdown",
   "id": "629f9312",
   "metadata": {},
   "source": [
    "### **Información a obtener: consultas al dataset principal (Sección B):**"
   ]
  },
  {
   "cell_type": "markdown",
   "id": "0eaafeaa",
   "metadata": {},
   "source": [
    "**Ejercicio 4)** Ranking de los 5 aglomerados con mayor porcentaje de hogares con dos o más ocupantes con estudios universitarios o superiores finalizados.\n",
    "Información obtenida a partir del par de archivos más recientes"
   ]
  },
  {
   "cell_type": "code",
   "execution_count": 7,
   "id": "a594a20c",
   "metadata": {},
   "outputs": [
    {
     "name": "stdout",
     "output_type": "stream",
     "text": [
      "Aglomerado:32 - Porcentaje de hogares con dos o mas universitarios:10.76%\n",
      "Aglomerado:2 - Porcentaje de hogares con dos o mas universitarios:6.63%\n",
      "Aglomerado:10 - Porcentaje de hogares con dos o mas universitarios:6.41%\n",
      "Aglomerado:12 - Porcentaje de hogares con dos o mas universitarios:5.85%\n",
      "Aglomerado:6 - Porcentaje de hogares con dos o mas universitarios:5.64%\n"
     ]
    }
   ],
   "source": [
    "ranking_aglomerados_universitarios()"
   ]
  },
  {
   "cell_type": "markdown",
   "id": "f2f5fcf3",
   "metadata": {},
   "source": [
    "**Ejercicio 5)** Informar para cada aglomerado el porcentaje de viviendas ocupadas por sus propietarios"
   ]
  },
  {
   "cell_type": "code",
   "execution_count": 8,
   "id": "3d90743d",
   "metadata": {},
   "outputs": [
    {
     "name": "stdout",
     "output_type": "stream",
     "text": [
      "Aglomerado:2 - Porcentaje de hogares habitados por sus propietarios:67.47%\n",
      "Aglomerado:3 - Porcentaje de hogares habitados por sus propietarios:63.30%\n",
      "Aglomerado:4 - Porcentaje de hogares habitados por sus propietarios:68.37%\n",
      "Aglomerado:5 - Porcentaje de hogares habitados por sus propietarios:71.64%\n",
      "Aglomerado:6 - Porcentaje de hogares habitados por sus propietarios:68.72%\n",
      "Aglomerado:7 - Porcentaje de hogares habitados por sus propietarios:69.08%\n",
      "Aglomerado:8 - Porcentaje de hogares habitados por sus propietarios:79.56%\n",
      "Aglomerado:9 - Porcentaje de hogares habitados por sus propietarios:67.29%\n",
      "Aglomerado:10 - Porcentaje de hogares habitados por sus propietarios:60.89%\n",
      "Aglomerado:12 - Porcentaje de hogares habitados por sus propietarios:69.51%\n",
      "Aglomerado:13 - Porcentaje de hogares habitados por sus propietarios:52.90%\n",
      "Aglomerado:14 - Porcentaje de hogares habitados por sus propietarios:73.47%\n",
      "Aglomerado:15 - Porcentaje de hogares habitados por sus propietarios:76.98%\n",
      "Aglomerado:17 - Porcentaje de hogares habitados por sus propietarios:65.42%\n",
      "Aglomerado:18 - Porcentaje de hogares habitados por sus propietarios:86.26%\n",
      "Aglomerado:19 - Porcentaje de hogares habitados por sus propietarios:77.84%\n",
      "Aglomerado:20 - Porcentaje de hogares habitados por sus propietarios:50.53%\n",
      "Aglomerado:22 - Porcentaje de hogares habitados por sus propietarios:82.45%\n",
      "Aglomerado:23 - Porcentaje de hogares habitados por sus propietarios:66.12%\n",
      "Aglomerado:25 - Porcentaje de hogares habitados por sus propietarios:72.71%\n",
      "Aglomerado:26 - Porcentaje de hogares habitados por sus propietarios:64.16%\n",
      "Aglomerado:27 - Porcentaje de hogares habitados por sus propietarios:65.69%\n",
      "Aglomerado:29 - Porcentaje de hogares habitados por sus propietarios:68.74%\n",
      "Aglomerado:30 - Porcentaje de hogares habitados por sus propietarios:60.50%\n",
      "Aglomerado:31 - Porcentaje de hogares habitados por sus propietarios:54.15%\n",
      "Aglomerado:32 - Porcentaje de hogares habitados por sus propietarios:53.20%\n",
      "Aglomerado:33 - Porcentaje de hogares habitados por sus propietarios:71.72%\n",
      "Aglomerado:34 - Porcentaje de hogares habitados por sus propietarios:69.77%\n",
      "Aglomerado:36 - Porcentaje de hogares habitados por sus propietarios:58.02%\n",
      "Aglomerado:38 - Porcentaje de hogares habitados por sus propietarios:72.34%\n",
      "Aglomerado:91 - Porcentaje de hogares habitados por sus propietarios:65.20%\n",
      "Aglomerado:93 - Porcentaje de hogares habitados por sus propietarios:66.89%\n"
     ]
    }
   ],
   "source": [
    "porcentaje_viviendas_ocupadas_por_propietario()"
   ]
  },
  {
   "cell_type": "markdown",
   "id": "61ff4fb1",
   "metadata": {},
   "source": [
    "**Ejercicio 6)** Informar el aglomerado con mayor cantidad de viviendas con más de dos ocupantes y sin baño. Informar también la cantidad de ellas"
   ]
  },
  {
   "cell_type": "code",
   "execution_count": 9,
   "id": "ca511339",
   "metadata": {},
   "outputs": [
    {
     "name": "stdout",
     "output_type": "stream",
     "text": [
      "El aglomerado con mas hogares que tienen mas de dos ocupantes y sin baño es el 33 con 28361 hogares\n"
     ]
    }
   ],
   "source": [
    "aglomerado_mas_cantidad_hogares_2habitantes_sinbanio()"
   ]
  },
  {
   "cell_type": "markdown",
   "id": "fc3f6d24",
   "metadata": {},
   "source": [
    "**Ejercicio 8)** Ordenar las regiones de forma descendente según el porcentaje de inquilinos de cada una"
   ]
  },
  {
   "cell_type": "code",
   "execution_count": 10,
   "id": "f3590cce",
   "metadata": {},
   "outputs": [
    {
     "name": "stdout",
     "output_type": "stream",
     "text": [
      "Región: 1 - Porcentaje de hogares con inquilinos: 11.03%\n",
      "Región: 43 - Porcentaje de hogares con inquilinos: 5.88%\n",
      "Región: 42 - Porcentaje de hogares con inquilinos: 1.37%\n",
      "Región: 40 - Porcentaje de hogares con inquilinos: 1.26%\n",
      "Región: 44 - Porcentaje de hogares con inquilinos: 1.05%\n",
      "Región: 41 - Porcentaje de hogares con inquilinos: 0.83%\n"
     ]
    }
   ],
   "source": [
    "regiones_inquilinos()"
   ]
  },
  {
   "cell_type": "markdown",
   "id": "8b650847",
   "metadata": {},
   "source": [
    "**Ejercicio 11)** Pedir al usuario que seleccione un año, y busque en el último trimestre almacenado del mencionado año, el aglomerado con mayor porcentaje de viviendas de **“Material\n",
    "precario”** y el aglomerado con menor porcentaje de viviendas de **“Material precario”**."
   ]
  },
  {
   "cell_type": "code",
   "execution_count": 11,
   "id": "dbe65d31",
   "metadata": {},
   "outputs": [
    {
     "name": "stdout",
     "output_type": "stream",
     "text": [
      "En el año 2024 (último trimestre guardado T2):\n",
      "El aglomerado 27 fue el de mayor porcentaje de viviendas de material precario, con un porcentaje de: 12.38%\n",
      "mientras que el aglomerado 19 fue el de menor porcentaje de viviendas de material precario, con un porcentaje de: 0.00%\n"
     ]
    }
   ],
   "source": [
    "porcentaje_viviendas_precarias_por_aglomerado()"
   ]
  },
  {
   "cell_type": "markdown",
   "id": "beea61ce",
   "metadata": {},
   "source": [
    "**Ejercicio 12)** A partir de la información del último trimestre almacenado en el sistema se debe retornar para cada aglomerado el porcentaje de jubilados que vivan en una vivienda con **CONDICION_DE_HABITABILIDAD** *'insuficiente'*"
   ]
  },
  {
   "cell_type": "code",
   "execution_count": 12,
   "id": "18fd327b",
   "metadata": {},
   "outputs": [
    {
     "name": "stdout",
     "output_type": "stream",
     "text": [
      "Porcentajes de jubilados en viviendas con habitabilidad insuficiente (último trimestre 2024 - T2):\n",
      "Aglomerado 33: 1.11%\n",
      "Aglomerado 32: 0.00%\n",
      "Aglomerado 13: 0.00%\n",
      "Aglomerado 9: 0.00%\n",
      "Aglomerado 12: 0.00%\n",
      "Aglomerado 14: 0.98%\n",
      "Aglomerado 15: 0.46%\n",
      "Aglomerado 19: 0.50%\n",
      "Aglomerado 36: 0.00%\n",
      "Aglomerado 38: 1.35%\n",
      "Aglomerado 6: 0.00%\n",
      "Aglomerado 3: 0.00%\n",
      "Aglomerado 34: 0.00%\n",
      "Aglomerado 22: 2.84%\n",
      "Aglomerado 91: 0.00%\n",
      "Aglomerado 8: 1.81%\n",
      "Aglomerado 93: 0.00%\n",
      "Aglomerado 10: 0.38%\n",
      "Aglomerado 30: 0.61%\n",
      "Aglomerado 25: 0.00%\n",
      "Aglomerado 7: 0.54%\n",
      "Aglomerado 17: 0.00%\n",
      "Aglomerado 23: 1.52%\n",
      "Aglomerado 2: 2.53%\n",
      "Aglomerado 29: 0.39%\n",
      "Aglomerado 4: 1.23%\n",
      "Aglomerado 5: 0.00%\n",
      "Aglomerado 18: 2.41%\n",
      "Aglomerado 26: 0.00%\n",
      "Aglomerado 31: 0.00%\n",
      "Aglomerado 20: 0.00%\n",
      "Aglomerado 27: 5.11%\n"
     ]
    }
   ],
   "source": [
    "hogar_jub_insuficiente()"
   ]
  }
 ],
 "metadata": {
  "kernelspec": {
   "display_name": "Python 3",
   "language": "python",
   "name": "python3"
  },
  "language_info": {
   "codemirror_mode": {
    "name": "ipython",
    "version": 3
   },
   "file_extension": ".py",
   "mimetype": "text/x-python",
   "name": "python",
   "nbconvert_exporter": "python",
   "pygments_lexer": "ipython3",
   "version": "3.12.9"
  }
 },
 "nbformat": 4,
 "nbformat_minor": 5
}
